{
 "cells": [
  {
   "cell_type": "code",
   "execution_count": 4,
   "metadata": {},
   "outputs": [
    {
     "name": "stdout",
     "output_type": "stream",
     "text": [
      "Sveiki! Įveskite filmo žanrą, biudžetą ir trukmės ribas, kad gautumėte filmo pajamų prognozę ir rastumėte atitinkančius filmus.\n",
      "Filmai, atitinkantys jūsų kriterijus:\n",
      "                       name                          genre  runtime\n",
      "4              12 Angry Men                  Crime,  Drama       96\n",
      "34            The Lion King  Animation,  Adventure,  Drama       88\n",
      "42   Grave of the Fireflies        Animation,  Drama,  War       89\n",
      "44             Modern Times       Comedy,  Drama,  Romance       87\n",
      "49              City Lights       Comedy,  Drama,  Romance       87\n",
      "57           Paths of Glory                    Drama,  War       88\n",
      "106         Bicycle Thieves                          Drama       89\n",
      "113              The Father                Drama,  Mystery       97\n",
      "134                Rashomon        Crime,  Drama,  Mystery       88\n",
      "148           Trainspotting                          Drama       93\n",
      "155           The Gold Rush     Adventure,  Comedy,  Drama       95\n",
      "167        The Seventh Seal                Drama,  Fantasy       96\n",
      "168            Mary and Max     Animation,  Comedy,  Drama       92\n",
      "183             Stand by Me              Adventure,  Drama       89\n",
      "Prognozuojamos filmo pajamos: $561,415,524.29\n"
     ]
    }
   ],
   "source": [
    "import pandas as pd\n",
    "from joblib import load\n",
    "\n",
    "df = pd.read_csv(\"IMDB_Top_250_movies_koreguoti_runtime_cleaned.csv\")\n",
    "\n",
    "best_rf_model = load('IMDB_model.joblib')\n",
    "\n",
    "def find_movies_by_genre_and_duration(genre, min_runtime, max_runtime):\n",
    "    filtered_movies = df[(df['genre'].str.contains(genre, case=False)) & \n",
    "                         (df['runtime'] >= min_runtime) & \n",
    "                         (df['runtime'] <= max_runtime)]\n",
    "    return filtered_movies\n",
    "\n",
    "def main():\n",
    "    print(\"Sveiki! Įveskite filmo žanrą, biudžetą ir trukmės ribas, kad gautumėte filmo pajamų prognozę ir rastumėte atitinkančius filmus.\")\n",
    "    try:\n",
    "        genre = input(\"Įveskite filmo žanrą (Drama, Crime, Comedy, Adventure, Action, Animation, War, History, Biography, Thriller, Sci-Fi, Fantasy): \")\n",
    "        budget = float(input(\"Įveskite filmo biudžetą (mln dolerių): \"))\n",
    "        min_runtime = int(input(\"Įveskite minimalią filmo trukmę minutėmis: \"))\n",
    "        max_runtime = int(input(\"Įveskite maksimalią filmo trukmę minutėmis: \"))\n",
    "        \n",
    "        # Filtruojame filmus\n",
    "        results = find_movies_by_genre_and_duration(genre, min_runtime, max_runtime)\n",
    "        \n",
    "        if not results.empty:\n",
    "            print(\"Filmai, atitinkantys jūsų kriterijus:\")\n",
    "            print(results[['name', 'genre', 'runtime']])\n",
    "        else:\n",
    "            print(\"Nėra filmų, atitinkančių jūsų kriterijus.\")\n",
    "        \n",
    "        # Prognozuojame pajamas\n",
    "        runtime = (min_runtime + max_runtime) / 2 \n",
    "        input_data = pd.DataFrame({'budget': [budget], 'runtime': [runtime]})\n",
    "        prediction = best_rf_model.predict(input_data)\n",
    "        print(f\"Prognozuojamos filmo pajamos: ${prediction[0]:,.2f}\")\n",
    "        \n",
    "    except ValueError:\n",
    "        print(\"Įvyko klaida! Įveskite teisingus duomenis.\")\n",
    "\n",
    "if __name__ == \"__main__\":\n",
    "    main()\n"
   ]
  }
 ],
 "metadata": {
  "kernelspec": {
   "display_name": "mokymai",
   "language": "python",
   "name": "python3"
  },
  "language_info": {
   "codemirror_mode": {
    "name": "ipython",
    "version": 3
   },
   "file_extension": ".py",
   "mimetype": "text/x-python",
   "name": "python",
   "nbconvert_exporter": "python",
   "pygments_lexer": "ipython3",
   "version": "3.12.2"
  }
 },
 "nbformat": 4,
 "nbformat_minor": 2
}
